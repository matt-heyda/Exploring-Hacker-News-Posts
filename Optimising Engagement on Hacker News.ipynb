{
 "cells": [
  {
   "cell_type": "markdown",
   "metadata": {
    "collapsed": true,
    "jupyter": {
     "outputs_hidden": true
    }
   },
   "source": [
    "# Optimising Engagement on Hacker News: Peak Interaction Times for Posts"
   ]
  },
  {
   "cell_type": "markdown",
   "metadata": {},
   "source": [
    "## Introduction"
   ]
  },
  {
   "cell_type": "markdown",
   "metadata": {},
   "source": [
    "[Hacker News](https://news.ycombinator.com/) is a site, similar to Reddit, where users submit posts and receive votes and comments. It is extremely popular in technology and startup circles, and popular posts can attract hundreds and thousands of visitors. \n",
    "\n",
    "This project will be an exploration of submissions made on this website. The submissions that we're specifically interested in are the ones that begin with the titles `'Show HN'` and `'Ask HN'`. `'Show HN'` posts are submitted to show the Hacker News community a project, product, or simply something interesting. While `'Ask HN'` submissions ask the community a specific question.\n",
    "\n",
    "This project will compare these two types of posts to determine:\n",
    "\n",
    "* Do `'Ask HN'` or `'Show HN'` receive more comments on average?\n",
    "* Do posts created at a specific time receive more comments on average?\n",
    "* Do `'Ask HN'` or `'Show HN'` receive more points on average?\n",
    "* Do posts created at a specific time receive more points on average?\n",
    "\n",
    "The dataset used for this project is a reduced version of this [Kaggle submission](https://www.kaggle.com/datasets/hacker-news/hacker-news-posts). It's worth noting that the dataset was reduced from ~300,000 to ~20,000 rows by removing all entries that didn't receive comments and randomly sampling from those remaining."
   ]
  },
  {
   "cell_type": "markdown",
   "metadata": {},
   "source": [
    "## Reading Data, Creating Lists of Lists, and Removing Header"
   ]
  },
  {
   "cell_type": "markdown",
   "metadata": {},
   "source": [
    "Opening, reading, and creating a list of lists of the 'hacker_news.csv' file:"
   ]
  },
  {
   "cell_type": "code",
   "execution_count": 43,
   "metadata": {
    "scrolled": true
   },
   "outputs": [],
   "source": [
    "# Importing necessary module\n",
    "from csv import reader\n",
    "\n",
    "# Open and read the file\n",
    "opened_file = open(\"hacker_news.csv\")\n",
    "read_file = reader(opened_file)\n",
    "hn = list(read_file)\n",
    "\n",
    "# Seperating header from data\n",
    "header = hn[0]\n",
    "hn = hn[1:]"
   ]
  },
  {
   "cell_type": "markdown",
   "metadata": {},
   "source": [
    "## Extracting Ask HN and Show HN Posts"
   ]
  },
  {
   "cell_type": "markdown",
   "metadata": {},
   "source": [
    "Now to seperate posts beginning with `'Ask HN'` and `'Show HN'` from our dataset:"
   ]
  },
  {
   "cell_type": "code",
   "execution_count": 44,
   "metadata": {},
   "outputs": [
    {
     "name": "stdout",
     "output_type": "stream",
     "text": [
      "Number of 'Ask HN' posts: 1744\n",
      "Number of 'Show HN' posts: 1162\n",
      "Number of other posts: 17194\n"
     ]
    }
   ],
   "source": [
    "# Categorising posts\n",
    "ask_posts = []\n",
    "show_posts = []\n",
    "other_posts = []\n",
    "\n",
    "for row in hn:\n",
    "    title = row[1]\n",
    "    title = title.lower()  # Controlling for case\n",
    "    if title.startswith(\"ask hn\"):\n",
    "        ask_posts.append(row)\n",
    "    elif title.startswith(\"show hn\"):\n",
    "        show_posts.append(row)\n",
    "    else:\n",
    "        other_posts.append(row)\n",
    "\n",
    "# Printing the counts\n",
    "print(\"Number of 'Ask HN' posts:\", len(ask_posts))\n",
    "print(\"Number of 'Show HN' posts:\", len(show_posts))\n",
    "print(\"Number of other posts:\", len(other_posts))"
   ]
  },
  {
   "cell_type": "markdown",
   "metadata": {},
   "source": [
    "## Calculating the Average Number of Comments for Ask HN and Show HN Posts"
   ]
  },
  {
   "cell_type": "markdown",
   "metadata": {},
   "source": [
    "Now to determine if `'Ask HN'` or `'Show HN'` receive more comments on average:"
   ]
  },
  {
   "cell_type": "code",
   "execution_count": 45,
   "metadata": {},
   "outputs": [
    {
     "name": "stdout",
     "output_type": "stream",
     "text": [
      "Average number of 'Ask HN' comments: 14.038417431192661\n"
     ]
    }
   ],
   "source": [
    "# Finding total number of comments in ask posts\n",
    "total_ask_comments = 0\n",
    "\n",
    "for row in ask_posts:\n",
    "    total_ask_comments += int(row[4])\n",
    "\n",
    "# Computing average number of comments in ask posts\n",
    "avg_ask_comments = total_ask_comments / len(ask_posts)\n",
    "print(\"Average number of 'Ask HN' comments:\", avg_ask_comments)"
   ]
  },
  {
   "cell_type": "code",
   "execution_count": 46,
   "metadata": {},
   "outputs": [
    {
     "name": "stdout",
     "output_type": "stream",
     "text": [
      "Average number of 'Show HN' comments: 10.31669535283993\n"
     ]
    }
   ],
   "source": [
    "# Finding total number of comments in show posts\n",
    "total_show_comments = 0\n",
    "\n",
    "for row in show_posts:\n",
    "    total_show_comments += int(row[4])\n",
    "\n",
    "# Computing average number of comments in show posts\n",
    "avg_show_comments = total_show_comments / len(show_posts)\n",
    "print(\"Average number of 'Show HN' comments:\", avg_show_comments)"
   ]
  },
  {
   "cell_type": "markdown",
   "metadata": {},
   "source": [
    "From the data, we can see that `'Ask HN'` submissions recieve 14 comments on average, whereas, `'Show HN'` posts only recieve 10. \n",
    "\n",
    "Since `'Ask HN'` posts recieve more comments on average, we will focus the rest of this analysis on these submissions."
   ]
  },
  {
   "cell_type": "markdown",
   "metadata": {},
   "source": [
    "## Finding the Amount of Ask Posts and Comments by Hour Created\n"
   ]
  },
  {
   "cell_type": "markdown",
   "metadata": {},
   "source": [
    "As stated in the introduction, our next goal is to determine if `'Ask HN'` posts created at a certain *time* are more likely to attract comments. \n",
    "\n",
    "The first step for this analysis will be to calculate the number of ask posts created in each hour of the day, along with the number of comments recieved."
   ]
  },
  {
   "cell_type": "code",
   "execution_count": 47,
   "metadata": {},
   "outputs": [
    {
     "data": {
      "text/plain": [
       "{'09': 251,\n",
       " '13': 1253,\n",
       " '10': 793,\n",
       " '14': 1416,\n",
       " '16': 1814,\n",
       " '23': 543,\n",
       " '12': 687,\n",
       " '17': 1146,\n",
       " '15': 4477,\n",
       " '21': 1745,\n",
       " '20': 1722,\n",
       " '02': 1381,\n",
       " '18': 1439,\n",
       " '03': 421,\n",
       " '05': 464,\n",
       " '19': 1188,\n",
       " '01': 683,\n",
       " '22': 479,\n",
       " '08': 492,\n",
       " '04': 337,\n",
       " '00': 447,\n",
       " '06': 397,\n",
       " '07': 267,\n",
       " '11': 641}"
      ]
     },
     "execution_count": 47,
     "metadata": {},
     "output_type": "execute_result"
    }
   ],
   "source": [
    "import datetime as dt\n",
    "\n",
    "result_list = []\n",
    "\n",
    "# Creating a list of lists with two elements: 'created_at' and 'num_comments'\n",
    "for post in ask_posts:\n",
    "    result_list.append([post[6], int(post[4])])\n",
    "\n",
    "# Initialising dictionaries to store the counts of posts and comments per hour\n",
    "posts_by_hour = {}\n",
    "comments_by_hour = {}\n",
    "\n",
    "date_format = \"%m/%d/%Y %H:%M\"  # Defining the format for date parsing\n",
    "\n",
    "# Iterating through the result_list to populate posts_by_hour and comments_by_hour dictionaries\n",
    "for row in result_list:\n",
    "    date = row[0]\n",
    "    comments = row[1]  # Number of comments\n",
    "    time = dt.datetime.strptime(date, date_format)  # Parsing the dates stored as strings\n",
    "    hour = time.strftime(\"%H\")  # Extracting the hour from the date object as a string\n",
    "    if hour not in posts_by_hour:\n",
    "        posts_by_hour[hour] = 1\n",
    "        comments_by_hour[hour] = comments\n",
    "    else:\n",
    "        posts_by_hour[hour] += 1  # Summing the number of posts per hour\n",
    "        comments_by_hour[hour] += comments  # Summing the number of comments per hour\n",
    "\n",
    "comments_by_hour"
   ]
  },
  {
   "cell_type": "markdown",
   "metadata": {},
   "source": [
    "## Calculating the Average Number of Comments for Ask HN Posts by Hour"
   ]
  },
  {
   "cell_type": "markdown",
   "metadata": {},
   "source": [
    "Next, we'll use these two dictionaries (`'comments_by_hour'` and `'posts_by_hour'`) to calculate the average number of comments for posts created during each hour of the day."
   ]
  },
  {
   "cell_type": "code",
   "execution_count": 48,
   "metadata": {},
   "outputs": [
    {
     "data": {
      "text/plain": [
       "[['09', 5.5777777777777775],\n",
       " ['13', 14.741176470588234],\n",
       " ['10', 13.440677966101696],\n",
       " ['14', 13.233644859813085],\n",
       " ['16', 16.796296296296298],\n",
       " ['23', 7.985294117647059],\n",
       " ['12', 9.41095890410959],\n",
       " ['17', 11.46],\n",
       " ['15', 38.5948275862069],\n",
       " ['21', 16.009174311926607],\n",
       " ['20', 21.525],\n",
       " ['02', 23.810344827586206],\n",
       " ['18', 13.20183486238532],\n",
       " ['03', 7.796296296296297],\n",
       " ['05', 10.08695652173913],\n",
       " ['19', 10.8],\n",
       " ['01', 11.383333333333333],\n",
       " ['22', 6.746478873239437],\n",
       " ['08', 10.25],\n",
       " ['04', 7.170212765957447],\n",
       " ['00', 8.127272727272727],\n",
       " ['06', 9.022727272727273],\n",
       " ['07', 7.852941176470588],\n",
       " ['11', 11.051724137931034]]"
      ]
     },
     "execution_count": 48,
     "metadata": {},
     "output_type": "execute_result"
    }
   ],
   "source": [
    "avg_by_hour = []\n",
    "\n",
    "# Iterating over the keys of 'comments_by_hour'\n",
    "for hour in comments_by_hour:\n",
    "    # Appending a list with two attributes:\n",
    "    # 1) The hour (key from 'comments_by_hour')\n",
    "    # 2) The average number of comments per post for that hour (value corresponding to that hour key divided by the value corresponding to the same hour key in 'posts_by_hour')\n",
    "    avg_by_hour.append([hour, comments_by_hour[hour] / posts_by_hour[hour]])\n",
    "\n",
    "avg_by_hour"
   ]
  },
  {
   "cell_type": "markdown",
   "metadata": {},
   "source": [
    "## Sorting and Printing Values from a List of Lists"
   ]
  },
  {
   "cell_type": "markdown",
   "metadata": {},
   "source": [
    "Though the list above shows us the results we need, we'll improve the format so that its easier to identify the hours with the highest values:"
   ]
  },
  {
   "cell_type": "code",
   "execution_count": 49,
   "metadata": {},
   "outputs": [
    {
     "data": {
      "text/plain": [
       "[[38.5948275862069, '15'],\n",
       " [23.810344827586206, '02'],\n",
       " [21.525, '20'],\n",
       " [16.796296296296298, '16'],\n",
       " [16.009174311926607, '21'],\n",
       " [14.741176470588234, '13'],\n",
       " [13.440677966101696, '10'],\n",
       " [13.233644859813085, '14'],\n",
       " [13.20183486238532, '18'],\n",
       " [11.46, '17'],\n",
       " [11.383333333333333, '01'],\n",
       " [11.051724137931034, '11'],\n",
       " [10.8, '19'],\n",
       " [10.25, '08'],\n",
       " [10.08695652173913, '05'],\n",
       " [9.41095890410959, '12'],\n",
       " [9.022727272727273, '06'],\n",
       " [8.127272727272727, '00'],\n",
       " [7.985294117647059, '23'],\n",
       " [7.852941176470588, '07'],\n",
       " [7.796296296296297, '03'],\n",
       " [7.170212765957447, '04'],\n",
       " [6.746478873239437, '22'],\n",
       " [5.5777777777777775, '09']]"
      ]
     },
     "execution_count": 49,
     "metadata": {},
     "output_type": "execute_result"
    }
   ],
   "source": [
    "# Swapping the columns in 'avg_by_hour'\n",
    "swap_avg_by_hour = []\n",
    "\n",
    "for row in avg_by_hour:\n",
    "    swap_avg_by_hour.append([row[1], row[0]])\n",
    "\n",
    "# Sorting average number of comments in descending order\n",
    "sorted_swap = sorted(swap_avg_by_hour, reverse=True)\n",
    "\n",
    "sorted_swap"
   ]
  },
  {
   "cell_type": "code",
   "execution_count": 51,
   "metadata": {},
   "outputs": [
    {
     "name": "stdout",
     "output_type": "stream",
     "text": [
      "Top 5 Hours for 'Ask HN' Comments\n",
      "\n",
      "15:00: 38.59 average comments per post\n",
      "02:00: 23.81 average comments per post\n",
      "20:00: 21.52 average comments per post\n",
      "16:00: 16.80 average comments per post\n",
      "21:00: 16.01 average comments per post\n"
     ]
    }
   ],
   "source": [
    "# String formatting and displaying the top 5 hours\n",
    "print(\"Top 5 Hours for 'Ask HN' Comments\\n\")\n",
    "\n",
    "for avg, hour in sorted_swap[:5]:\n",
    "    print(\"{hour}: {comments:.2f} average comments per post\".format(hour=dt.datetime.strptime(hour, \"%H\").strftime(\"%H:%M\"), comments=avg))"
   ]
  },
  {
   "cell_type": "markdown",
   "metadata": {},
   "source": [
    "The hour that receives the most comments per post, on average, is 15:00, with an average of 38.59 comments per post. \n",
    "\n",
    "According to the dataset [documentation](https://www.kaggle.com/datasets/hacker-news/hacker-news-posts), the time zone used is Eastern Time in the US. "
   ]
  },
  {
   "cell_type": "markdown",
   "metadata": {},
   "source": [
    "## Determining Whether Show or Ask Posts Receive More Points on Average"
   ]
  },
  {
   "cell_type": "markdown",
   "metadata": {},
   "source": [
    "Using a similar method to earlier, we will now determine which type of post receives more points on average."
   ]
  },
  {
   "cell_type": "code",
   "execution_count": 52,
   "metadata": {},
   "outputs": [
    {
     "name": "stdout",
     "output_type": "stream",
     "text": [
      "Average Number of Points for 'Ask HN' Posts: 15.061926605504587\n",
      "Average Number of Points for 'Show HN' Posts: 27.555077452667813\n"
     ]
    }
   ],
   "source": [
    "# Calculating the total points for 'Ask HN' and 'Show HN' posts\n",
    "ask_points_total = 0\n",
    "show_points_total = 0\n",
    "\n",
    "for row in ask_posts:\n",
    "    num_points = int(row[3])\n",
    "    ask_points_total += num_points\n",
    "\n",
    "for row in show_posts:\n",
    "    num_points = int(row[3])\n",
    "    show_points_total += num_points\n",
    "\n",
    "# Computing the average number of points for 'Ask HN' and 'Show HN' posts\n",
    "avg_ask_points = ask_points_total / len(ask_posts)\n",
    "print(\"Average Number of Points for 'Ask HN' Posts:\", avg_ask_points)\n",
    "\n",
    "avg_show_points = show_points_total / len(show_posts)\n",
    "print(\"Average Number of Points for 'Show HN' Posts:\", avg_show_points)"
   ]
  },
  {
   "cell_type": "markdown",
   "metadata": {},
   "source": [
    "From the analysis we can see that `'Show HN'` posts receive more points (27.7) on average than `'Ask HN'` posts (15.1)."
   ]
  },
  {
   "cell_type": "markdown",
   "metadata": {},
   "source": [
    "## Calculating the Average Number of Points for Show HN Posts by Hour"
   ]
  },
  {
   "cell_type": "markdown",
   "metadata": {},
   "source": [
    "Now we know that `'Show HN'` posts receive more points, we will now detemine at what time posts are more likely to receive them."
   ]
  },
  {
   "cell_type": "code",
   "execution_count": 55,
   "metadata": {},
   "outputs": [
    {
     "name": "stdout",
     "output_type": "stream",
     "text": [
      "Top 5 Hours for 'Ask HN' Points\n",
      "\n",
      "23:00: 42.39 average points per post\n",
      "12:00: 41.69 average points per post\n",
      "22:00: 40.35 average points per post\n",
      "00:00: 37.84 average points per post\n",
      "18:00: 36.31 average points per post\n"
     ]
    }
   ],
   "source": [
    "result_list = []\n",
    "\n",
    "# Creating a list of lists with two elements: 'created_at' and 'num_points'\n",
    "for post in show_posts:\n",
    "    result_list.append([post[6], int(post[3])])\n",
    "\n",
    "# Initialising dictionaries to store the counts of posts and points per hour\n",
    "posts_by_hour = {}\n",
    "points_by_hour = {}\n",
    "\n",
    "date_format = \"%m/%d/%Y %H:%M\"  # Defining the format for date parsing\n",
    "\n",
    "# Iterating through the result_list to populate posts_by_hour and points_by_hour dictionaries\n",
    "for row in result_list:\n",
    "    date = row[0]\n",
    "    points = row[1]\n",
    "    time = dt.datetime.strptime(date, date_format)  # Parsing the dates stored as strings\n",
    "    hour = time.strftime(\"%H\")  # Extracting the hour from the date object as a string\n",
    "    if hour not in posts_by_hour:\n",
    "        posts_by_hour[hour] = 1\n",
    "        points_by_hour[hour] = points\n",
    "    else:\n",
    "        posts_by_hour[hour] += 1  # Summing the number of posts per hour\n",
    "        points_by_hour[hour] += points  # Summing the number of points per hour\n",
    "\n",
    "# Computing the average number of points per post for each hour\n",
    "avg_by_hour = []\n",
    "\n",
    "for hour in points_by_hour:\n",
    "    avg_by_hour.append([hour, points_by_hour[hour] / posts_by_hour[hour]])\n",
    "\n",
    "# Swapping the columns in 'avg_by_hour'\n",
    "swap_avg_by_hour = []\n",
    "\n",
    "for row in avg_by_hour:\n",
    "    swap_avg_by_hour.append([row[1], row[0]])\n",
    "\n",
    "# Sorting average number of points in descending order\n",
    "sorted_swap = sorted(swap_avg_by_hour, reverse=True)\n",
    "\n",
    "# Printing the top 5 hours for 'Ask HN' points\n",
    "print(\"Top 5 Hours for 'Ask HN' Points\\n\")\n",
    "\n",
    "for avg, hour in sorted_swap[:5]:\n",
    "    print(\"{hour}: {comments:.2f} average points per post\".format(hour=dt.datetime.strptime(hour, \"%H\").strftime(\"%H:%M\"), comments=avg))"
   ]
  },
  {
   "cell_type": "markdown",
   "metadata": {},
   "source": [
    "The hour that receives the most points per post, on average, is 23:00, with an average of 42.39 points per post. "
   ]
  },
  {
   "cell_type": "markdown",
   "metadata": {},
   "source": [
    "## Conclusion"
   ]
  },
  {
   "cell_type": "markdown",
   "metadata": {},
   "source": [
    "Our analysis aimed to understand engagement patterns on Hacker News, particularly focusing on 'Ask HN' and 'Show HN' posts. Comparing comments and points received, we found 'Ask HN' posts garner more comments, with peak engagement around 15:00 (3:00 PM) Eastern Time. Conversely, 'Show HN' posts accrue more points, particularly noticeable late at night around 23:00 (11:00 PM) Eastern Time. These insights offer practical guidance for users and content creators to optimise their engagement strategies on the platform."
   ]
  }
 ],
 "metadata": {
  "kernelspec": {
   "display_name": "Python 3 (ipykernel)",
   "language": "python",
   "name": "python3"
  },
  "language_info": {
   "codemirror_mode": {
    "name": "ipython",
    "version": 3
   },
   "file_extension": ".py",
   "mimetype": "text/x-python",
   "name": "python",
   "nbconvert_exporter": "python",
   "pygments_lexer": "ipython3",
   "version": "3.12.2"
  }
 },
 "nbformat": 4,
 "nbformat_minor": 4
}
